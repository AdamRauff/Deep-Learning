{
 "cells": [
  {
   "cell_type": "markdown",
   "metadata": {},
   "source": [
    "# Import Packages"
   ]
  },
  {
   "cell_type": "code",
   "execution_count": 30,
   "metadata": {
    "collapsed": false
   },
   "outputs": [],
   "source": [
    "import numpy as np\n",
    "import matplotlib.pyplot as plt\n",
    "plt.rcParams['figure.figsize'] = (15,15) # Make the figures a bit bigger\n",
    "%matplotlib inline\n",
    "\n",
    "# keras has the mnist data set built in\n",
    "import keras\n",
    "from keras.datasets import mnist\n",
    "from keras.models import Sequential\n",
    "from keras.layers.core import Dense, Activation\n",
    "from keras.layers import Input, Activation, ZeroPadding2D, BatchNormalization, Flatten, Conv2D, MaxPooling2D \n",
    "from keras.models import Model\n",
    "from keras.utils import np_utils\n",
    "\n",
    "# visualization tools\n",
    "import pydot\n",
    "from IPython.display import SVG\n",
    "from keras.utils.vis_utils import model_to_dot\n",
    "from keras.utils import plot_model"
   ]
  },
  {
   "cell_type": "markdown",
   "metadata": {},
   "source": [
    "# Load Data"
   ]
  },
  {
   "cell_type": "code",
   "execution_count": 99,
   "metadata": {
    "collapsed": false
   },
   "outputs": [
    {
     "name": "stdout",
     "output_type": "stream",
     "text": [
      "X_train shape (60000, 28, 28)\n",
      "y_train shape (60000,)\n",
      "X_test shape (10000, 28, 28)\n",
      "y_test shape (10000,)\n",
      "255\n"
     ]
    }
   ],
   "source": [
    "# split train and test sets\n",
    "(X_train, y_train), (X_test, y_test) = mnist.load_data()\n",
    "print(\"X_train shape\", X_train.shape)\n",
    "print(\"y_train shape\", y_train.shape)\n",
    "print(\"X_test shape\", X_test.shape)\n",
    "print(\"y_test shape\", y_test.shape)\n",
    "print(X_train.max()) # images are 8-bit"
   ]
  },
  {
   "cell_type": "markdown",
   "metadata": {},
   "source": [
    "## Visualize Data"
   ]
  },
  {
   "cell_type": "code",
   "execution_count": 167,
   "metadata": {
    "collapsed": false
   },
   "outputs": [
    {
     "data": {
      "text/plain": [
       "(-0.5, 27.5, 27.5, -0.5)"
      ]
     },
     "execution_count": 167,
     "metadata": {},
     "output_type": "execute_result"
    },
    {
     "data": {
      "image/png": "[encoded data removed]",
      "text/plain": [
       "<matplotlib.figure.Figure at 0x136aa8f60>"
      ]
     },
     "metadata": {},
     "output_type": "display_data"
    }
   ],
   "source": [
    "# Training sample\n",
    "m = 7 # try changing\n",
    "plt.imshow(X_train[m], cmap='gray', interpolation='none')\n",
    "plt.title(\"Class {}\".format(y_train[m]))\n",
    "plt.axis('off')"
   ]
  },
  {
   "cell_type": "markdown",
   "metadata": {},
   "source": [
    "## Prepare and Normalize "
   ]
  },
  {
   "cell_type": "code",
   "execution_count": 33,
   "metadata": {
    "collapsed": false
   },
   "outputs": [
    {
     "name": "stdout",
     "output_type": "stream",
     "text": [
      "Training shape flat: (60000, 784)\n",
      "Testing shape flat: (10000, 784)\n",
      "Original: (60000, 28, 28)\n"
     ]
    }
   ],
   "source": [
    "X_train_flat = X_train.reshape(60000, 784).astype('float32') # flatten image to row vector\n",
    "X_test_flat = X_test.reshape(10000, 784).astype('float32')\n",
    "X_train = X_train.astype('float32')\n",
    "X_test = X_test.astype('float32')\n",
    "# normalize\n",
    "X_train /= 255\n",
    "X_test /= 255\n",
    "X_train_flat /= 255\n",
    "X_test_flat /= 255\n",
    "print(\"Training shape flat:\", X_train_flat.shape)\n",
    "print(\"Testing shape flat:\", X_test_flat.shape)\n",
    "print(\"Original:\", X_train.shape)"
   ]
  },
  {
   "cell_type": "markdown",
   "metadata": {},
   "source": [
    "### Convert Labels to One-Hot encodings"
   ]
  },
  {
   "cell_type": "code",
   "execution_count": 34,
   "metadata": {
    "collapsed": false
   },
   "outputs": [
    {
     "name": "stdout",
     "output_type": "stream",
     "text": [
      "Label matrix shape:  (60000, 10)\n",
      "Label matrix shape:  (10000, 10)\n",
      "[ 0.  0.  0.  0.  1.  0.  0.  0.  0.  0.]\n"
     ]
    }
   ],
   "source": [
    "nb_classes = 10\n",
    "\n",
    "# notice big Y - storing different name variable for hot encoding\n",
    "Y_train = np_utils.to_categorical(y_train, nb_classes)\n",
    "Y_test = np_utils.to_categorical(y_test, nb_classes)\n",
    "\n",
    "print(\"Label matrix shape: \", Y_train.shape)\n",
    "print(\"Label matrix shape: \", Y_test.shape)\n",
    "print(Y_train[m,:])"
   ]
  },
  {
   "cell_type": "markdown",
   "metadata": {},
   "source": [
    "# Construct Neural Network\n",
    "\n",
    "## 4 steps to build NN in Keras\n",
    "\n",
    "<b>1) Construct computational graph </b><br>\n",
    "2) Compile <br>\n",
    "3) Train <br>\n",
    "4) Predict <br>\n",
    "<br>\n",
    "Lets make 3 different models: \n",
    "    - Two Identical Models declared differently\n",
    "    - Convolutional model"
   ]
  },
  {
   "cell_type": "code",
   "execution_count": 35,
   "metadata": {
    "collapsed": false
   },
   "outputs": [],
   "source": [
    "# Sequential model\n",
    "model = Sequential()\n",
    "model.add(Dense(512, input_shape=(784,)))\n",
    "model.add(Activation('relu')) \n",
    "                           \n",
    "model.add(Dense(512))\n",
    "model.add(Activation('relu'))\n",
    "\n",
    "model.add(Dense(10))\n",
    "model.add(Activation('softmax')) "
   ]
  },
  {
   "cell_type": "code",
   "execution_count": 36,
   "metadata": {
    "collapsed": true
   },
   "outputs": [],
   "source": [
    "# Functional API - more complex models - allows multiple types of inputs and outputs\n",
    "\n",
    "# tensor input placeholder with shape input_shape\n",
    "X_input = Input(shape=X_train_flat.shape[1:])\n",
    "\n",
    "# Layer 1\n",
    "X = Dense(512, name='fc0')(X_input)\n",
    "X = Activation('relu')(X)\n",
    "    \n",
    "# Layer 2\n",
    "X = Dense(512, name='fc1')(X)\n",
    "X = Activation('relu')(X)\n",
    "    \n",
    "#Layer 3 - output\n",
    "X = Dense(10, name='fc2')(X)\n",
    "X = Activation('softmax')(X)\n",
    "    \n",
    "FCmodel = Model(inputs=X_input, outputs=X, name='FC_Model')"
   ]
  },
  {
   "cell_type": "code",
   "execution_count": 144,
   "metadata": {
    "collapsed": false
   },
   "outputs": [],
   "source": [
    "# Convolutional Network\n",
    "\n",
    "X_in = Input(shape=(28,28,1))\n",
    "    \n",
    "# X2 = ZeroPadding2D((3,3))(X_in)\n",
    "    \n",
    "# CONV -> BN -> RELU Block applied to X\n",
    "X2 = Conv2D(32, (5, 5), strides=(1, 1), name='conv0', padding='valid')(X_in)\n",
    "X2 = BatchNormalization(axis=2, name='bn0')(X2)\n",
    "X2 = Activation('relu')(X2)\n",
    "\n",
    "# MAXPOOL\n",
    "X2 = MaxPooling2D((2, 2), name='max_pool')(X2)\n",
    "\n",
    "# CONV -> BN -> RELU Block applied to X\n",
    "X2 = Conv2D(32, (3, 3), strides=(1, 1), name='conv1')(X2)\n",
    "X2 = BatchNormalization(axis=2, name='bn1')(X2)\n",
    "X2 = Activation('relu')(X2)\n",
    "\n",
    "# Flatten X + fully connected\n",
    "X2 = Flatten()(X2)\n",
    "X2 = Dense(10, activation='softmax', name='fc')(X2)\n",
    "\n",
    "# Create model. This creates your Keras model instance, you'll use this instance to train/test the model.\n",
    "ConvModel = Model(inputs=X_in, outputs=X2, name='Conv_MNIST')"
   ]
  },
  {
   "cell_type": "code",
   "execution_count": 145,
   "metadata": {
    "collapsed": false
   },
   "outputs": [
    {
     "name": "stdout",
     "output_type": "stream",
     "text": [
      "_________________________________________________________________\n",
      "Layer (type)                 Output Shape              Param #   \n",
      "=================================================================\n",
      "dense_4 (Dense)              (None, 512)               401920    \n",
      "_________________________________________________________________\n",
      "activation_12 (Activation)   (None, 512)               0         \n",
      "_________________________________________________________________\n",
      "dense_5 (Dense)              (None, 512)               262656    \n",
      "_________________________________________________________________\n",
      "activation_13 (Activation)   (None, 512)               0         \n",
      "_________________________________________________________________\n",
      "dense_6 (Dense)              (None, 10)                5130      \n",
      "_________________________________________________________________\n",
      "activation_14 (Activation)   (None, 10)                0         \n",
      "=================================================================\n",
      "Total params: 669,706\n",
      "Trainable params: 669,706\n",
      "Non-trainable params: 0\n",
      "_________________________________________________________________\n"
     ]
    }
   ],
   "source": [
    "# print summary of sequential model\n",
    "model.summary()"
   ]
  },
  {
   "cell_type": "code",
   "execution_count": 146,
   "metadata": {
    "collapsed": false
   },
   "outputs": [
    {
     "name": "stdout",
     "output_type": "stream",
     "text": [
      "_________________________________________________________________\n",
      "Layer (type)                 Output Shape              Param #   \n",
      "=================================================================\n",
      "input_5 (InputLayer)         (None, 784)               0         \n",
      "_________________________________________________________________\n",
      "fc0 (Dense)                  (None, 512)               401920    \n",
      "_________________________________________________________________\n",
      "activation_15 (Activation)   (None, 512)               0         \n",
      "_________________________________________________________________\n",
      "fc1 (Dense)                  (None, 512)               262656    \n",
      "_________________________________________________________________\n",
      "activation_16 (Activation)   (None, 512)               0         \n",
      "_________________________________________________________________\n",
      "fc2 (Dense)                  (None, 10)                5130      \n",
      "_________________________________________________________________\n",
      "activation_17 (Activation)   (None, 10)                0         \n",
      "=================================================================\n",
      "Total params: 669,706\n",
      "Trainable params: 669,706\n",
      "Non-trainable params: 0\n",
      "_________________________________________________________________\n"
     ]
    }
   ],
   "source": [
    "FCmodel.summary()"
   ]
  },
  {
   "cell_type": "code",
   "execution_count": 147,
   "metadata": {
    "collapsed": false
   },
   "outputs": [
    {
     "name": "stdout",
     "output_type": "stream",
     "text": [
      "_________________________________________________________________\n",
      "Layer (type)                 Output Shape              Param #   \n",
      "=================================================================\n",
      "input_12 (InputLayer)        (None, 28, 28, 1)         0         \n",
      "_________________________________________________________________\n",
      "conv0 (Conv2D)               (None, 24, 24, 32)        832       \n",
      "_________________________________________________________________\n",
      "bn0 (BatchNormalization)     (None, 24, 24, 32)        96        \n",
      "_________________________________________________________________\n",
      "activation_24 (Activation)   (None, 24, 24, 32)        0         \n",
      "_________________________________________________________________\n",
      "max_pool (MaxPooling2D)      (None, 12, 12, 32)        0         \n",
      "_________________________________________________________________\n",
      "conv1 (Conv2D)               (None, 10, 10, 32)        9248      \n",
      "_________________________________________________________________\n",
      "bn1 (BatchNormalization)     (None, 10, 10, 32)        40        \n",
      "_________________________________________________________________\n",
      "activation_25 (Activation)   (None, 10, 10, 32)        0         \n",
      "_________________________________________________________________\n",
      "flatten_7 (Flatten)          (None, 3200)              0         \n",
      "_________________________________________________________________\n",
      "fc (Dense)                   (None, 10)                32010     \n",
      "=================================================================\n",
      "Total params: 42,226\n",
      "Trainable params: 42,158\n",
      "Non-trainable params: 68\n",
      "_________________________________________________________________\n"
     ]
    }
   ],
   "source": [
    "ConvModel.summary()"
   ]
  },
  {
   "cell_type": "code",
   "execution_count": 148,
   "metadata": {
    "collapsed": false
   },
   "outputs": [],
   "source": [
    "# SVG(model_to_dot(model).create(prog='dot', format='svg'))"
   ]
  },
  {
   "cell_type": "markdown",
   "metadata": {},
   "source": [
    "### 2) Compile\n",
    "\n",
    "Choose loss function and optimizer"
   ]
  },
  {
   "cell_type": "code",
   "execution_count": 149,
   "metadata": {
    "collapsed": true
   },
   "outputs": [],
   "source": [
    "model.compile(loss='categorical_crossentropy', optimizer='adam', metrics=['accuracy'])\n",
    "FCmodel.compile(loss='categorical_crossentropy', optimizer='adam', metrics=['accuracy'])\n",
    "ConvModel.compile(loss='categorical_crossentropy', optimizer='adam', metrics=['accuracy'])"
   ]
  },
  {
   "cell_type": "markdown",
   "metadata": {},
   "source": [
    "### 3) Train"
   ]
  },
  {
   "cell_type": "code",
   "execution_count": 43,
   "metadata": {
    "collapsed": false
   },
   "outputs": [
    {
     "name": "stdout",
     "output_type": "stream",
     "text": [
      "Train on 60000 samples, validate on 10000 samples\n",
      "Epoch 1/3\n",
      "60000/60000 [==============================] - 34s 559us/step - loss: 0.1836 - acc: 0.9446 - val_loss: 0.1174 - val_acc: 0.9651\n",
      "Epoch 2/3\n",
      "60000/60000 [==============================] - 33s 554us/step - loss: 0.0795 - acc: 0.9750 - val_loss: 0.0914 - val_acc: 0.9710\n",
      "Epoch 3/3\n",
      "60000/60000 [==============================] - 32s 527us/step - loss: 0.0571 - acc: 0.9818 - val_loss: 0.0739 - val_acc: 0.9782\n",
      "History output:\n",
      "{'val_loss': [0.11738079937323928, 0.091443536845082413, 0.073900880567333654], 'val_acc': [0.96509999999999996, 0.97099999999999997, 0.97819999999999996], 'loss': [0.1836323724862188, 0.079521207103397079, 0.057074758182993776], 'acc': [0.94458333333333333, 0.97504999999999997, 0.98181666666666667]}\n"
     ]
    }
   ],
   "source": [
    "# Train Sequential model first\n",
    "history = model.fit(X_train_flat, Y_train, epochs=3, validation_data=(X_test_flat, Y_test))\n",
    "\n",
    "print(\"History output:\")\n",
    "print(history.history)"
   ]
  },
  {
   "cell_type": "code",
   "execution_count": 53,
   "metadata": {
    "collapsed": false
   },
   "outputs": [
    {
     "data": {
      "text/plain": [
       "<matplotlib.legend.Legend at 0x1236da0f0>"
      ]
     },
     "execution_count": 53,
     "metadata": {},
     "output_type": "execute_result"
    },
    {
     "data": {
      "image/png": "[encoded data removed]",
      "text/plain": [
       "<matplotlib.figure.Figure at 0x122c9fc18>"
      ]
     },
     "metadata": {},
     "output_type": "display_data"
    }
   ],
   "source": [
    "# visualize Cost vs. Iterations as I am training\n",
    "plt.style.use('seaborn-notebook')\n",
    "plt.plot(history.history['loss'])\n",
    "plt.plot(history.history['val_loss'])\n",
    "#plt.title('Cost vs Iterations', size=24)\n",
    "plt.ylabel('Cost', size=20)\n",
    "plt.xlabel('Iteration', size=20)\n",
    "plt.legend(['Train', 'Test'])"
   ]
  },
  {
   "cell_type": "code",
   "execution_count": 54,
   "metadata": {
    "collapsed": false
   },
   "outputs": [
    {
     "data": {
      "text/plain": [
       "<matplotlib.legend.Legend at 0x123ad7780>"
      ]
     },
     "execution_count": 54,
     "metadata": {},
     "output_type": "execute_result"
    },
    {
     "data": {
      "image/png": "[encoded data removed]",
      "text/plain": [
       "<matplotlib.figure.Figure at 0x1230b8198>"
      ]
     },
     "metadata": {},
     "output_type": "display_data"
    }
   ],
   "source": [
    "plt.plot(history.history['acc'])\n",
    "plt.plot(history.history['val_acc'])\n",
    "#plt.title('Accuracy vs Iterations', size=24)\n",
    "plt.ylabel('Accuracy', size=20)\n",
    "plt.xlabel('Iteration', size=20)\n",
    "plt.legend(['Train', 'Test'], loc='lower right')"
   ]
  },
  {
   "cell_type": "code",
   "execution_count": 150,
   "metadata": {
    "collapsed": false
   },
   "outputs": [
    {
     "name": "stdout",
     "output_type": "stream",
     "text": [
      "Epoch 1/3\n",
      "60000/60000 [==============================] - 342s 6ms/step - loss: 0.1184 - acc: 0.9639\n",
      "Epoch 2/3\n",
      "60000/60000 [==============================] - 344s 6ms/step - loss: 0.0498 - acc: 0.9849\n",
      "Epoch 3/3\n",
      "60000/60000 [==============================] - 322s 5ms/step - loss: 0.0355 - acc: 0.9887\n"
     ]
    }
   ],
   "source": [
    "# Train Conv model\n",
    "histroy2 = ConvModel.fit(X_train.reshape(60000,28,28,1), Y_train, epochs=3)"
   ]
  },
  {
   "cell_type": "code",
   "execution_count": 151,
   "metadata": {
    "collapsed": false
   },
   "outputs": [
    {
     "name": "stdout",
     "output_type": "stream",
     "text": [
      "{'acc': [0.96393333333333331, 0.98491666666666666, 0.98873333333333335], 'loss': [0.11835407077645262, 0.049805337736429645, 0.035453921491955406]}\n"
     ]
    }
   ],
   "source": [
    "print(histroy2.history)"
   ]
  },
  {
   "cell_type": "code",
   "execution_count": 152,
   "metadata": {
    "collapsed": false
   },
   "outputs": [
    {
     "data": {
      "text/plain": [
       "<matplotlib.legend.Legend at 0x124ab51d0>"
      ]
     },
     "execution_count": 152,
     "metadata": {},
     "output_type": "execute_result"
    },
    {
     "data": {
      "image/png": "[encoded data removed]",
      "text/plain": [
       "<matplotlib.figure.Figure at 0x1243737f0>"
      ]
     },
     "metadata": {},
     "output_type": "display_data"
    }
   ],
   "source": [
    "plt.style.use('seaborn-notebook')\n",
    "plt.plot(histroy2.history['loss'])\n",
    "plt.title('Conv Net', size=24)\n",
    "plt.ylabel('Cost', size=20)\n",
    "plt.xlabel('Iteration', size=20)\n",
    "plt.legend(['Train'])"
   ]
  },
  {
   "cell_type": "code",
   "execution_count": 153,
   "metadata": {
    "collapsed": false
   },
   "outputs": [
    {
     "data": {
      "text/plain": [
       "<matplotlib.legend.Legend at 0x12489f198>"
      ]
     },
     "execution_count": 153,
     "metadata": {},
     "output_type": "execute_result"
    },
    {
     "data": {
      "image/png": "[encoded data removed]",
      "text/plain": [
       "<matplotlib.figure.Figure at 0x124ab5908>"
      ]
     },
     "metadata": {},
     "output_type": "display_data"
    }
   ],
   "source": [
    "plt.plot(histroy2.history['acc'])\n",
    "plt.title('Conv Net', size=24)\n",
    "plt.ylabel('Accuracy', size=20)\n",
    "plt.xlabel('Iteration', size=20)\n",
    "plt.legend(['Train', 'Test'], loc='lower right')"
   ]
  },
  {
   "cell_type": "markdown",
   "metadata": {},
   "source": [
    "### Evaluate"
   ]
  },
  {
   "cell_type": "code",
   "execution_count": 154,
   "metadata": {
    "collapsed": false
   },
   "outputs": [
    {
     "name": "stdout",
     "output_type": "stream",
     "text": [
      "10000/10000 [==============================] - 1s 117us/step\n",
      "Cost:  0.0739008805673\n",
      "Accuracy:  0.9782\n"
     ]
    }
   ],
   "source": [
    "# fully connected model\n",
    "Cost, Acc = model.evaluate(X_test_flat, Y_test)\n",
    "print('Cost: ',Cost)\n",
    "print('Accuracy: ', Acc)"
   ]
  },
  {
   "cell_type": "code",
   "execution_count": 155,
   "metadata": {
    "collapsed": false
   },
   "outputs": [
    {
     "name": "stdout",
     "output_type": "stream",
     "text": [
      "10000/10000 [==============================] - 34s 3ms/step\n",
      "Cost:  0.0370094118815\n",
      "Accuracy:  0.9872\n"
     ]
    }
   ],
   "source": [
    "# Convolutional model\n",
    "Cost, Acc = ConvModel.evaluate(X_test.reshape(10000,28,28,1), Y_test)\n",
    "print('Cost: ',Cost)\n",
    "print('Accuracy: ', Acc)"
   ]
  },
  {
   "cell_type": "markdown",
   "metadata": {},
   "source": [
    "# Predict\n",
    "\n",
    "Try with Another Image"
   ]
  },
  {
   "cell_type": "code",
   "execution_count": 170,
   "metadata": {
    "collapsed": false
   },
   "outputs": [
    {
     "name": "stdout",
     "output_type": "stream",
     "text": [
      "Image Size:  (28, 28)\n"
     ]
    },
    {
     "data": {
      "text/plain": [
       "(-0.5, 27.5, 27.5, -0.5)"
      ]
     },
     "execution_count": 170,
     "metadata": {},
     "output_type": "execute_result"
    },
    {
     "data": {
      "image/png": "[encoded data removed]",
      "text/plain": [
       "<matplotlib.figure.Figure at 0x125c57080>"
      ]
     },
     "metadata": {},
     "output_type": "display_data"
    }
   ],
   "source": [
    "from keras.preprocessing import image\n",
    "import PIL.ImageOps\n",
    "\n",
    "img_path = 'digitpictures/Eight.jpg'\n",
    "#Read image + resize\n",
    "img = image.load_img(img_path, target_size=(28, 28))\n",
    "\n",
    "# Convert to graysclae \n",
    "img = img.convert('L')\n",
    "\n",
    "# Take inverse. MNIST recognizes bright foreground with dark background\n",
    "inv_img = PIL.ImageOps.invert(img)\n",
    "\n",
    "print('Image Size: ', img.size)\n",
    "#Display image\n",
    "plt.imshow(inv_img, 'gray')\n",
    "plt.grid('off')\n",
    "plt.axis('off')"
   ]
  },
  {
   "cell_type": "code",
   "execution_count": 171,
   "metadata": {
    "collapsed": false
   },
   "outputs": [
    {
     "name": "stdout",
     "output_type": "stream",
     "text": [
      "x shape:  (1, 784)\n",
      "x2 shape:  (1, 28, 28, 1)\n",
      "Fully Connected Model\n",
      "[[ 0.06296762  0.04828931  0.22458991  0.13131703  0.02254599  0.0630285\n",
      "   0.05035728  0.06660128  0.26782778  0.06247529]]\n",
      "8\n",
      "\n",
      "Convolutional Model\n",
      "[[ 0.00229753  0.46202338  0.12524097  0.01546961  0.00732368  0.1977333\n",
      "   0.00342286  0.17435081  0.00483365  0.00730416]]\n",
      "1\n"
     ]
    }
   ],
   "source": [
    "from keras.applications.imagenet_utils import preprocess_input\n",
    "\n",
    "# convert to array, and reshape\n",
    "x = image.img_to_array(inv_img).reshape(1,784)\n",
    "x2 = image.img_to_array(inv_img)\n",
    "print('x shape: ', x.shape)\n",
    "\n",
    "# print(x.min())\n",
    "\n",
    "#normalize\n",
    "x /= 255\n",
    "x2 /= 255\n",
    "x2 = x2.reshape(1,28,28,1)\n",
    "print('x2 shape: ', x2.shape)\n",
    "print('Fully Connected Model')\n",
    "print(model.predict(x))\n",
    "print(np.argmax(model.predict(x)))\n",
    "print()\n",
    "print('Convolutional Model')\n",
    "print(ConvModel.predict(x2))\n",
    "print(np.argmax(ConvModel.predict(x2.reshape(1,28,28,1))))"
   ]
  },
  {
   "cell_type": "markdown",
   "metadata": {},
   "source": [
    "## Topics for next week ???\n",
    "\n",
    "<ul>\n",
    "    <li>Transfer Learning\n",
    "    <li>Convolutional Neural Nets\n",
    "    <li>Tesnorflow tutorial\n",
    "    <li>Bias Variance\n",
    "    <li>Someone's research \n",
    "</ul>"
   ]
  },
  {
   "cell_type": "markdown",
   "metadata": {},
   "source": [
    "## Acknowledgment\n",
    "\n",
    "Most of this material was written by Xavier Snelgrove <br>\n",
    "https://github.com/wxs/keras-mnist-tutorial/blob/master/MNIST%20in%20Keras.ipynb\n",
    "<br><br>\n",
    "\n",
    "Also Available from my github - https://github.com/AdamRauff/Deep-Learning"
   ]
  }
 ],
 "metadata": {
  "kernelspec": {
   "display_name": "Python 3",
   "language": "python",
   "name": "python3"
  },
  "language_info": {
   "codemirror_mode": {
    "name": "ipython",
    "version": 3
   },
   "file_extension": ".py",
   "mimetype": "text/x-python",
   "name": "python",
   "nbconvert_exporter": "python",
   "pygments_lexer": "ipython3",
   "version": "3.5.0"
  }
 },
 "nbformat": 4,
 "nbformat_minor": 0
}
